{
 "cells": [
  {
   "cell_type": "code",
   "execution_count": 1,
   "metadata": {},
   "outputs": [
    {
     "name": "stdout",
     "output_type": "stream",
     "text": [
      "1715\n",
      "(1715, True)\n"
     ]
    }
   ],
   "source": [
    "import opencv_jump as opencv\n",
    "from game_environment import Jump_Env as wechat_env\n",
    "from robot_arm import uarm\n",
    "import cv2"
   ]
  },
  {
   "cell_type": "code",
   "execution_count": 2,
   "metadata": {},
   "outputs": [
    {
     "name": "stdout",
     "output_type": "stream",
     "text": [
      "[INFO] 2018-09-05 13:07:47 [C:\\Users\\Stephen_Bo\\Desktop\\FYP\\Final_Code\\uarm\\comm\\__init__.py:98]: connect COM7 success\n",
      "[DEBUG] 2018-09-05 13:07:47 [C:\\Users\\Stephen_Bo\\Desktop\\FYP\\Final_Code\\uarm\\comm\\threaded.py:65]: serial read thread start ...\n",
      "[DEBUG] 2018-09-05 13:07:47 [C:\\Users\\Stephen_Bo\\Desktop\\FYP\\Final_Code\\uarm\\swift\\__init__.py:139]: asyncio thread start ...\n",
      "[DEBUG] 2018-09-05 13:07:47 [C:\\Users\\Stephen_Bo\\Desktop\\FYP\\Final_Code\\uarm\\swift\\__init__.py:176]: serial result handle thread start ...\n",
      "[VERBOSE] 2018-09-05 13:07:47 [C:\\Users\\Stephen_Bo\\Desktop\\FYP\\Final_Code\\uarm\\comm\\threaded.py:103]: send: COM7, b'#1 P2234\\n'\n",
      "[VERBOSE] 2018-09-05 13:07:48 [C:\\Users\\Stephen_Bo\\Desktop\\FYP\\Final_Code\\uarm\\comm\\__init__.py:38]: recv: start\n",
      "[VERBOSE] 2018-09-05 13:07:48 [C:\\Users\\Stephen_Bo\\Desktop\\FYP\\Final_Code\\uarm\\comm\\__init__.py:38]: recv: echo:Marlin 1.1.0-RC7\n",
      "[VERBOSE] 2018-09-05 13:07:48 [C:\\Users\\Stephen_Bo\\Desktop\\FYP\\Final_Code\\uarm\\comm\\__init__.py:38]: recv: echo: Last Updated: 2016-07-31 12:00 | Author: (none, default config)\n",
      "[VERBOSE] 2018-09-05 13:07:48 [C:\\Users\\Stephen_Bo\\Desktop\\FYP\\Final_Code\\uarm\\comm\\__init__.py:38]: recv: Compiled: Nov  8 2017\n",
      "[VERBOSE] 2018-09-05 13:07:48 [C:\\Users\\Stephen_Bo\\Desktop\\FYP\\Final_Code\\uarm\\comm\\__init__.py:38]: recv: echo: Free Memory: 2386  PlannerBufferBytes: 924\n",
      "[VERBOSE] 2018-09-05 13:07:48 [C:\\Users\\Stephen_Bo\\Desktop\\FYP\\Final_Code\\uarm\\comm\\__init__.py:38]: recv: echo:Hardcoded Default Settings Loaded\n",
      "[VERBOSE] 2018-09-05 13:07:48 [C:\\Users\\Stephen_Bo\\Desktop\\FYP\\Final_Code\\uarm\\comm\\__init__.py:38]: recv: echo:Steps per unit:\n",
      "[VERBOSE] 2018-09-05 13:07:48 [C:\\Users\\Stephen_Bo\\Desktop\\FYP\\Final_Code\\uarm\\comm\\__init__.py:38]: recv: echo:  M92 X320.00 Y320.00 Z320.00 E84.88\n",
      "[VERBOSE] 2018-09-05 13:07:48 [C:\\Users\\Stephen_Bo\\Desktop\\FYP\\Final_Code\\uarm\\comm\\__init__.py:38]: recv: echo:Maximum feedrates (mm/s):\n",
      "[VERBOSE] 2018-09-05 13:07:48 [C:\\Users\\Stephen_Bo\\Desktop\\FYP\\Final_Code\\uarm\\comm\\__init__.py:38]: recv: echo:  M203 X2000.00 Y2000.00 Z2000.00 E25.00\n",
      "[VERBOSE] 2018-09-05 13:07:48 [C:\\Users\\Stephen_Bo\\Desktop\\FYP\\Final_Code\\uarm\\comm\\__init__.py:38]: recv: echo:Maximum Acceleration (mm/s2):\n",
      "[VERBOSE] 2018-09-05 13:07:48 [C:\\Users\\Stephen_Bo\\Desktop\\FYP\\Final_Code\\uarm\\comm\\__init__.py:38]: recv: echo:  M201 X2000 Y2000 Z2000 E10000\n",
      "[VERBOSE] 2018-09-05 13:07:48 [C:\\Users\\Stephen_Bo\\Desktop\\FYP\\Final_Code\\uarm\\comm\\__init__.py:38]: recv: echo:Accelerations: P=printing, R=retract and T=travel\n",
      "[VERBOSE] 2018-09-05 13:07:48 [C:\\Users\\Stephen_Bo\\Desktop\\FYP\\Final_Code\\uarm\\comm\\__init__.py:38]: recv: echo:  M204 P25.00 R25.00 T100.00\n",
      "[VERBOSE] 2018-09-05 13:07:48 [C:\\Users\\Stephen_Bo\\Desktop\\FYP\\Final_Code\\uarm\\comm\\__init__.py:38]: recv: echo:Advanced variables: S=Min feedrate (mm/s), T=Min travel feedrate (mm/s), B=minimum segment time (ms), X=maximum XY jerk (mm/s),  Z=maximum Z jerk (mm/s),  E=maximum E jerk (mm/s)\n",
      "[VERBOSE] 2018-09-05 13:07:48 [C:\\Users\\Stephen_Bo\\Desktop\\FYP\\Final_Code\\uarm\\comm\\__init__.py:38]: recv: echo:  M205 S0.00 T0.00 B20000 X1.00 Z1.00 E5.00\n",
      "[VERBOSE] 2018-09-05 13:07:48 [C:\\Users\\Stephen_Bo\\Desktop\\FYP\\Final_Code\\uarm\\comm\\__init__.py:38]: recv: echo:Home offset (mm)\n",
      "[VERBOSE] 2018-09-05 13:07:48 [C:\\Users\\Stephen_Bo\\Desktop\\FYP\\Final_Code\\uarm\\comm\\__init__.py:38]: recv: echo:  M206 X0.00 Y0.00 Z0.00\n",
      "[VERBOSE] 2018-09-05 13:07:48 [C:\\Users\\Stephen_Bo\\Desktop\\FYP\\Final_Code\\uarm\\comm\\__init__.py:38]: recv: echo:PID settings:\n",
      "[VERBOSE] 2018-09-05 13:07:48 [C:\\Users\\Stephen_Bo\\Desktop\\FYP\\Final_Code\\uarm\\comm\\__init__.py:38]: recv: echo:  M301 P22.20 I1.08 D114.00\n",
      "[VERBOSE] 2018-09-05 13:07:48 [C:\\Users\\Stephen_Bo\\Desktop\\FYP\\Final_Code\\uarm\\comm\\__init__.py:38]: recv: echo:Filament settings: Disabled\n",
      "[VERBOSE] 2018-09-05 13:07:48 [C:\\Users\\Stephen_Bo\\Desktop\\FYP\\Final_Code\\uarm\\comm\\__init__.py:38]: recv: echo:  M200 D1.75\n",
      "[VERBOSE] 2018-09-05 13:07:48 [C:\\Users\\Stephen_Bo\\Desktop\\FYP\\Final_Code\\uarm\\comm\\__init__.py:38]: recv: echo:  M200 D0\n",
      "[VERBOSE] 2018-09-05 13:07:49 [C:\\Users\\Stephen_Bo\\Desktop\\FYP\\Final_Code\\uarm\\comm\\threaded.py:103]: send: COM7, b'#2 P2234\\n'\n",
      "[VERBOSE] 2018-09-05 13:07:50 [C:\\Users\\Stephen_Bo\\Desktop\\FYP\\Final_Code\\uarm\\comm\\__init__.py:38]: recv: $2 ok V1\n",
      "[VERBOSE] 2018-09-05 13:07:50 [C:\\Users\\Stephen_Bo\\Desktop\\FYP\\Final_Code\\uarm\\comm\\threaded.py:103]: send: COM7, b'#3 G0 X239.43 Y0.0 Z170.0 F100000.0\\n'\n",
      "[VERBOSE] 2018-09-05 13:07:50 [C:\\Users\\Stephen_Bo\\Desktop\\FYP\\Final_Code\\uarm\\comm\\__init__.py:38]: recv: $3 ok\n",
      "[VERBOSE] 2018-09-05 13:07:51 [C:\\Users\\Stephen_Bo\\Desktop\\FYP\\Final_Code\\uarm\\comm\\__init__.py:38]: recv: @5 V1\n",
      "1720\n",
      "action:1.533333\n",
      "1720\n",
      "[VERBOSE] 2018-09-05 13:07:53 [C:\\Users\\Stephen_Bo\\Desktop\\FYP\\Final_Code\\uarm\\comm\\threaded.py:103]: send: COM7, b'#4 G0 X239.43 Y0.0 Z-30.0 F100000.0\\n'\n"
     ]
    },
    {
     "name": "stderr",
     "output_type": "stream",
     "text": [
      "C:\\Users\\Stephen_Bo\\Anaconda3\\lib\\site-packages\\skimage\\transform\\_warps.py:84: UserWarning: The default mode, 'constant', will be changed to 'reflect' in skimage 0.15.\n",
      "  warn(\"The default mode, 'constant', will be changed to 'reflect' in \"\n"
     ]
    },
    {
     "name": "stdout",
     "output_type": "stream",
     "text": [
      "robot:1.720000\n",
      "[VERBOSE] 2018-09-05 13:07:54 [C:\\Users\\Stephen_Bo\\Desktop\\FYP\\Final_Code\\uarm\\comm\\__init__.py:38]: recv: $4 ok\n",
      "[VERBOSE] 2018-09-05 13:07:54 [C:\\Users\\Stephen_Bo\\Desktop\\FYP\\Final_Code\\uarm\\comm\\threaded.py:103]: send: COM7, b'#5 G0 X239.43 Y0.0 Z170.0 F100000.0\\n'\n",
      "[VERBOSE] 2018-09-05 13:07:55 [C:\\Users\\Stephen_Bo\\Desktop\\FYP\\Final_Code\\uarm\\comm\\__init__.py:38]: recv: $5 ok\n",
      "1929\n",
      "action:1.881667\n",
      "1929\n",
      "[VERBOSE] 2018-09-05 13:08:04 [C:\\Users\\Stephen_Bo\\Desktop\\FYP\\Final_Code\\uarm\\comm\\threaded.py:103]: send: COM7, b'#6 G0 X239.43 Y0.0 Z-30.0 F100000.0\\n'\n",
      "robot:1.929000\n",
      "[VERBOSE] 2018-09-05 13:08:05 [C:\\Users\\Stephen_Bo\\Desktop\\FYP\\Final_Code\\uarm\\comm\\__init__.py:38]: recv: $6 ok\n",
      "[VERBOSE] 2018-09-05 13:08:06 [C:\\Users\\Stephen_Bo\\Desktop\\FYP\\Final_Code\\uarm\\comm\\threaded.py:103]: send: COM7, b'#7 G0 X239.43 Y0.0 Z170.0 F100000.0\\n'\n",
      "[VERBOSE] 2018-09-05 13:08:07 [C:\\Users\\Stephen_Bo\\Desktop\\FYP\\Final_Code\\uarm\\comm\\__init__.py:38]: recv: $7 ok\n",
      "1720\n",
      "action:1.533333\n",
      "1720\n",
      "[VERBOSE] 2018-09-05 13:08:21 [C:\\Users\\Stephen_Bo\\Desktop\\FYP\\Final_Code\\uarm\\comm\\threaded.py:103]: send: COM7, b'#8 G0 X239.43 Y0.0 Z-30.0 F100000.0\\n'\n",
      "robot:1.720000\n",
      "[VERBOSE] 2018-09-05 13:08:22 [C:\\Users\\Stephen_Bo\\Desktop\\FYP\\Final_Code\\uarm\\comm\\__init__.py:38]: recv: $8 ok\n",
      "[VERBOSE] 2018-09-05 13:08:23 [C:\\Users\\Stephen_Bo\\Desktop\\FYP\\Final_Code\\uarm\\comm\\threaded.py:103]: send: COM7, b'#9 G0 X239.43 Y0.0 Z170.0 F100000.0\\n'\n",
      "[VERBOSE] 2018-09-05 13:08:24 [C:\\Users\\Stephen_Bo\\Desktop\\FYP\\Final_Code\\uarm\\comm\\__init__.py:38]: recv: $9 ok\n",
      "1461\n",
      "action:1.101667\n",
      "1461\n",
      "[VERBOSE] 2018-09-05 13:08:32 [C:\\Users\\Stephen_Bo\\Desktop\\FYP\\Final_Code\\uarm\\comm\\threaded.py:103]: send: COM7, b'#10 G0 X239.43 Y0.0 Z-30.0 F100000.0\\n'\n",
      "robot:1.461000\n",
      "[VERBOSE] 2018-09-05 13:08:34 [C:\\Users\\Stephen_Bo\\Desktop\\FYP\\Final_Code\\uarm\\comm\\__init__.py:38]: recv: $10 ok\n",
      "[VERBOSE] 2018-09-05 13:08:34 [C:\\Users\\Stephen_Bo\\Desktop\\FYP\\Final_Code\\uarm\\comm\\threaded.py:103]: send: COM7, b'#11 G0 X239.43 Y0.0 Z170.0 F100000.0\\n'\n",
      "[VERBOSE] 2018-09-05 13:08:35 [C:\\Users\\Stephen_Bo\\Desktop\\FYP\\Final_Code\\uarm\\comm\\__init__.py:38]: recv: $11 ok\n",
      "1609\n",
      "action:1.348333\n",
      "1609\n",
      "[VERBOSE] 2018-09-05 13:08:44 [C:\\Users\\Stephen_Bo\\Desktop\\FYP\\Final_Code\\uarm\\comm\\threaded.py:103]: send: COM7, b'#12 G0 X239.43 Y0.0 Z-30.0 F100000.0\\n'\n",
      "robot:1.609000\n",
      "[VERBOSE] 2018-09-05 13:08:45 [C:\\Users\\Stephen_Bo\\Desktop\\FYP\\Final_Code\\uarm\\comm\\__init__.py:38]: recv: $12 ok\n",
      "[VERBOSE] 2018-09-05 13:08:45 [C:\\Users\\Stephen_Bo\\Desktop\\FYP\\Final_Code\\uarm\\comm\\threaded.py:103]: send: COM7, b'#13 G0 X239.43 Y0.0 Z170.0 F100000.0\\n'\n",
      "[VERBOSE] 2018-09-05 13:08:46 [C:\\Users\\Stephen_Bo\\Desktop\\FYP\\Final_Code\\uarm\\comm\\__init__.py:38]: recv: $13 ok\n",
      "933\n",
      "action:0.221667\n",
      "933\n",
      "[VERBOSE] 2018-09-05 13:08:55 [C:\\Users\\Stephen_Bo\\Desktop\\FYP\\Final_Code\\uarm\\comm\\threaded.py:103]: send: COM7, b'#14 G0 X239.43 Y0.0 Z-30.0 F100000.0\\n'\n",
      "robot:0.933000\n",
      "[VERBOSE] 2018-09-05 13:08:56 [C:\\Users\\Stephen_Bo\\Desktop\\FYP\\Final_Code\\uarm\\comm\\threaded.py:103]: send: COM7, b'#15 G0 X239.43 Y0.0 Z170.0 F100000.0\\n'\n",
      "[VERBOSE] 2018-09-05 13:08:56 [C:\\Users\\Stephen_Bo\\Desktop\\FYP\\Final_Code\\uarm\\comm\\__init__.py:38]: recv: $14 ok\n",
      "[VERBOSE] 2018-09-05 13:08:58 [C:\\Users\\Stephen_Bo\\Desktop\\FYP\\Final_Code\\uarm\\comm\\__init__.py:38]: recv: $15 ok\n"
     ]
    },
    {
     "ename": "KeyboardInterrupt",
     "evalue": "",
     "output_type": "error",
     "traceback": [
      "\u001b[1;31m---------------------------------------------------------------------------\u001b[0m",
      "\u001b[1;31mKeyboardInterrupt\u001b[0m                         Traceback (most recent call last)",
      "\u001b[1;32m<ipython-input-2-a3326af74c2b>\u001b[0m in \u001b[0;36m<module>\u001b[1;34m()\u001b[0m\n\u001b[0;32m     10\u001b[0m         \u001b[0maction\u001b[0m \u001b[1;33m=\u001b[0m \u001b[0mopencv\u001b[0m\u001b[1;33m.\u001b[0m\u001b[0mget_action\u001b[0m\u001b[1;33m(\u001b[0m\u001b[1;34m\"autojump.jpg\"\u001b[0m\u001b[1;33m)\u001b[0m\u001b[1;33m\u001b[0m\u001b[0m\n\u001b[0;32m     11\u001b[0m         \u001b[0mprint\u001b[0m\u001b[1;33m(\u001b[0m\u001b[1;34m\"action:%f\"\u001b[0m\u001b[1;33m%\u001b[0m\u001b[0maction\u001b[0m\u001b[1;33m)\u001b[0m\u001b[1;33m\u001b[0m\u001b[0m\n\u001b[1;32m---> 12\u001b[1;33m         \u001b[0mobs1\u001b[0m\u001b[1;33m,\u001b[0m \u001b[0mreward\u001b[0m\u001b[1;33m,\u001b[0m \u001b[0mdone\u001b[0m\u001b[1;33m,\u001b[0m \u001b[0mscore\u001b[0m \u001b[1;33m=\u001b[0m \u001b[0menv\u001b[0m\u001b[1;33m.\u001b[0m\u001b[0mstep_robot\u001b[0m\u001b[1;33m(\u001b[0m\u001b[0maction\u001b[0m\u001b[1;33m,\u001b[0m\u001b[0marm\u001b[0m\u001b[1;33m)\u001b[0m\u001b[1;33m\u001b[0m\u001b[0m\n\u001b[0m\u001b[0;32m     13\u001b[0m         \u001b[1;32mif\u001b[0m \u001b[0mdone\u001b[0m\u001b[1;33m:\u001b[0m\u001b[1;33m\u001b[0m\u001b[0m\n\u001b[0;32m     14\u001b[0m             \u001b[1;32mbreak\u001b[0m\u001b[1;33m\u001b[0m\u001b[0m\n",
      "\u001b[1;32m~\\Desktop\\FYP\\Final_Code\\game_environment.py\u001b[0m in \u001b[0;36mstep_robot\u001b[1;34m(self, action, arm)\u001b[0m\n\u001b[0;32m     99\u001b[0m \u001b[1;33m\u001b[0m\u001b[0m\n\u001b[0;32m    100\u001b[0m         \u001b[1;31m# get state\u001b[0m\u001b[1;33m\u001b[0m\u001b[1;33m\u001b[0m\u001b[0m\n\u001b[1;32m--> 101\u001b[1;33m         \u001b[0mself\u001b[0m\u001b[1;33m.\u001b[0m\u001b[0mpull_screenshot\u001b[0m\u001b[1;33m(\u001b[0m\u001b[1;34m'autojump.jpg'\u001b[0m\u001b[1;33m)\u001b[0m\u001b[1;33m\u001b[0m\u001b[0m\n\u001b[0m\u001b[0;32m    102\u001b[0m         \u001b[0mobs\u001b[0m \u001b[1;33m=\u001b[0m \u001b[0mstate\u001b[0m\u001b[1;33m(\u001b[0m\u001b[1;34m'autojump.jpg'\u001b[0m\u001b[1;33m)\u001b[0m\u001b[1;33m\u001b[0m\u001b[0m\n\u001b[0;32m    103\u001b[0m \u001b[1;33m\u001b[0m\u001b[0m\n",
      "\u001b[1;32m~\\Desktop\\FYP\\Final_Code\\game_environment.py\u001b[0m in \u001b[0;36mpull_screenshot\u001b[1;34m(self, file_name)\u001b[0m\n\u001b[0;32m    130\u001b[0m     \u001b[1;32mdef\u001b[0m \u001b[0mpull_screenshot\u001b[0m\u001b[1;33m(\u001b[0m\u001b[0mself\u001b[0m\u001b[1;33m,\u001b[0m \u001b[0mfile_name\u001b[0m\u001b[1;33m)\u001b[0m\u001b[1;33m:\u001b[0m\u001b[1;33m\u001b[0m\u001b[0m\n\u001b[0;32m    131\u001b[0m         \u001b[1;31m# Get screenshot\u001b[0m\u001b[1;33m\u001b[0m\u001b[1;33m\u001b[0m\u001b[0m\n\u001b[1;32m--> 132\u001b[1;33m         \u001b[0mos\u001b[0m\u001b[1;33m.\u001b[0m\u001b[0msystem\u001b[0m\u001b[1;33m(\u001b[0m\u001b[1;34m'adb shell screencap -p /sdcard/%s'\u001b[0m \u001b[1;33m%\u001b[0m \u001b[0mfile_name\u001b[0m\u001b[1;33m)\u001b[0m\u001b[1;33m\u001b[0m\u001b[0m\n\u001b[0m\u001b[0;32m    133\u001b[0m         \u001b[0mos\u001b[0m\u001b[1;33m.\u001b[0m\u001b[0msystem\u001b[0m\u001b[1;33m(\u001b[0m\u001b[1;34m'adb pull /sdcard/%s .'\u001b[0m \u001b[1;33m%\u001b[0m \u001b[0mfile_name\u001b[0m\u001b[1;33m)\u001b[0m\u001b[1;33m\u001b[0m\u001b[0m\n\u001b[0;32m    134\u001b[0m \u001b[1;33m\u001b[0m\u001b[0m\n",
      "\u001b[1;31mKeyboardInterrupt\u001b[0m: "
     ]
    },
    {
     "name": "stdout",
     "output_type": "stream",
     "text": [
      "[INFO] 2018-09-05 13:09:04 [C:\\Users\\Stephen_Bo\\Desktop\\FYP\\Final_Code\\uarm\\comm\\__init__.py:50]: connection is lost\n",
      "[DEBUG] 2018-09-05 13:09:04 [C:\\Users\\Stephen_Bo\\Desktop\\FYP\\Final_Code\\uarm\\comm\\threaded.py:97]: serial read thread exit ...\n",
      "[DEBUG] 2018-09-05 13:09:04 [C:\\Users\\Stephen_Bo\\Desktop\\FYP\\Final_Code\\uarm\\swift\\__init__.py:142]: asyncio thread exit ...\n",
      "[DEBUG] 2018-09-05 13:09:04 [C:\\Users\\Stephen_Bo\\Desktop\\FYP\\Final_Code\\uarm\\swift\\__init__.py:200]: serial result handle thread exit ...\n"
     ]
    }
   ],
   "source": [
    "arm = uarm()\n",
    "number_templet = [cv2.imread('templet/{}.jpg'.format(i)) for i in range(10)]\n",
    "restart_templet = cv2.imread('templet/again.jpg')\n",
    "env = wechat_env(number_templet=number_templet, restart_templet=restart_templet)\n",
    "while 1:\n",
    "    wechat_score = 0\n",
    "    jump_step = 0\n",
    "    obs0 = env.reset()\n",
    "    while 1:\n",
    "        action = opencv.get_action(\"autojump.jpg\")\n",
    "        print(\"action:%f\"%action)\n",
    "        obs1, reward, done, score = env.step_robot(action,arm)\n",
    "        if done:\n",
    "            break\n",
    "        else:\n",
    "            wechat_score = score\n",
    "            jump_step += 1\n",
    "            obs0 =obs1"
   ]
  },
  {
   "cell_type": "code",
   "execution_count": null,
   "metadata": {},
   "outputs": [],
   "source": []
  }
 ],
 "metadata": {
  "kernelspec": {
   "display_name": "Python 3",
   "language": "python",
   "name": "python3"
  },
  "language_info": {
   "codemirror_mode": {
    "name": "ipython",
    "version": 3
   },
   "file_extension": ".py",
   "mimetype": "text/x-python",
   "name": "python",
   "nbconvert_exporter": "python",
   "pygments_lexer": "ipython3",
   "version": "3.6.5"
  }
 },
 "nbformat": 4,
 "nbformat_minor": 2
}
