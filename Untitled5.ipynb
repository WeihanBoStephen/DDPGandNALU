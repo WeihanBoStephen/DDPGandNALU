{
 "cells": [
  {
   "cell_type": "markdown",
   "metadata": {},
   "source": [
    "# This code is for Visualisation Actor Network of DDPG"
   ]
  },
  {
   "cell_type": "code",
   "execution_count": 1,
   "metadata": {},
   "outputs": [
    {
     "name": "stderr",
     "output_type": "stream",
     "text": [
      "Using TensorFlow backend.\n"
     ]
    }
   ],
   "source": [
    "import tensorflow as tf     \n",
    "import numpy as np          \n",
    "import os\n",
    "import cv2\n",
    "import numpy as np\n",
    "from PIL import ImageGrab\n",
    "import random\n",
    "import matplotlib.pyplot as plt\n",
    "import time as sys_time\n",
    "import pymysql\n",
    "import time\n",
    "from PIL import Image\n",
    "import pandas as pd\n",
    "from tools import get_original_frame,state\n",
    "from keras import *"
   ]
  },
  {
   "cell_type": "code",
   "execution_count": 2,
   "metadata": {},
   "outputs": [
    {
     "name": "stdout",
     "output_type": "stream",
     "text": [
      "1025\n"
     ]
    },
    {
     "data": {
      "text/html": [
       "<div>\n",
       "<style scoped>\n",
       "    .dataframe tbody tr th:only-of-type {\n",
       "        vertical-align: middle;\n",
       "    }\n",
       "\n",
       "    .dataframe tbody tr th {\n",
       "        vertical-align: top;\n",
       "    }\n",
       "\n",
       "    .dataframe thead th {\n",
       "        text-align: right;\n",
       "    }\n",
       "</style>\n",
       "<table border=\"1\" class=\"dataframe\">\n",
       "  <thead>\n",
       "    <tr style=\"text-align: right;\">\n",
       "      <th></th>\n",
       "      <th>state1</th>\n",
       "      <th>action</th>\n",
       "      <th>state2</th>\n",
       "      <th>reward</th>\n",
       "      <th>dead_judge</th>\n",
       "    </tr>\n",
       "  </thead>\n",
       "  <tbody>\n",
       "    <tr>\n",
       "      <th>0</th>\n",
       "      <td>./trainingdata_imgs/1535214556.jpg</td>\n",
       "      <td>-0.755000</td>\n",
       "      <td>./trainingdata_imgs/1535214568.jpg</td>\n",
       "      <td>1</td>\n",
       "      <td>0</td>\n",
       "    </tr>\n",
       "    <tr>\n",
       "      <th>1</th>\n",
       "      <td>./trainingdata_imgs/1535214570.jpg</td>\n",
       "      <td>-0.323333</td>\n",
       "      <td>./trainingdata_imgs/1535214582.jpg</td>\n",
       "      <td>1</td>\n",
       "      <td>0</td>\n",
       "    </tr>\n",
       "    <tr>\n",
       "      <th>2</th>\n",
       "      <td>./trainingdata_imgs/1535214584.jpg</td>\n",
       "      <td>-0.618333</td>\n",
       "      <td>./trainingdata_imgs/1535214596.jpg</td>\n",
       "      <td>1</td>\n",
       "      <td>0</td>\n",
       "    </tr>\n",
       "    <tr>\n",
       "      <th>3</th>\n",
       "      <td>./trainingdata_imgs/1535214598.jpg</td>\n",
       "      <td>-0.835000</td>\n",
       "      <td>./trainingdata_imgs/1535214610.jpg</td>\n",
       "      <td>1</td>\n",
       "      <td>0</td>\n",
       "    </tr>\n",
       "    <tr>\n",
       "      <th>4</th>\n",
       "      <td>./trainingdata_imgs/1535214612.jpg</td>\n",
       "      <td>-0.165000</td>\n",
       "      <td>./trainingdata_imgs/1535214624.jpg</td>\n",
       "      <td>1</td>\n",
       "      <td>0</td>\n",
       "    </tr>\n",
       "  </tbody>\n",
       "</table>\n",
       "</div>"
      ],
      "text/plain": [
       "                               state1    action  \\\n",
       "0  ./trainingdata_imgs/1535214556.jpg -0.755000   \n",
       "1  ./trainingdata_imgs/1535214570.jpg -0.323333   \n",
       "2  ./trainingdata_imgs/1535214584.jpg -0.618333   \n",
       "3  ./trainingdata_imgs/1535214598.jpg -0.835000   \n",
       "4  ./trainingdata_imgs/1535214612.jpg -0.165000   \n",
       "\n",
       "                               state2  reward  dead_judge  \n",
       "0  ./trainingdata_imgs/1535214568.jpg       1           0  \n",
       "1  ./trainingdata_imgs/1535214582.jpg       1           0  \n",
       "2  ./trainingdata_imgs/1535214596.jpg       1           0  \n",
       "3  ./trainingdata_imgs/1535214610.jpg       1           0  \n",
       "4  ./trainingdata_imgs/1535214624.jpg       1           0  "
      ]
     },
     "execution_count": 2,
     "metadata": {},
     "output_type": "execute_result"
    }
   ],
   "source": [
    "df=pd.read_csv('pre_train_data.csv')\n",
    "print(len(df))\n",
    "df.head()"
   ]
  },
  {
   "cell_type": "code",
   "execution_count": 3,
   "metadata": {},
   "outputs": [
    {
     "data": {
      "image/png": "[encoded data removed]",
      "text/plain": [
       "<Figure size 432x288 with 1 Axes>"
      ]
     },
     "metadata": {},
     "output_type": "display_data"
    }
   ],
   "source": [
    "state1 = df['state1']\n",
    "im = plt.imread(state1[0])\n",
    "plt.imshow(im)\n",
    "plt.show()"
   ]
  },
  {
   "cell_type": "code",
   "execution_count": null,
   "metadata": {},
   "outputs": [],
   "source": []
  },
  {
   "cell_type": "code",
   "execution_count": 4,
   "metadata": {},
   "outputs": [],
   "source": [
    "def conv_img(sess,conv,shape):\n",
    "    conv = sess.run(tf.reshape(conv , shape))\n",
    "    conv = np.sum(conv,axis = 0)\n",
    "    conv = np.asmatrix(conv)\n",
    "    conv = Image.fromarray(conv * 255.0 / conv.max())\n",
    "    return conv"
   ]
  },
  {
   "cell_type": "code",
   "execution_count": 5,
   "metadata": {},
   "outputs": [],
   "source": [
    "def visualisation(img_dir,agent,model_dir):\n",
    "    with tf.Session() as sess:\n",
    "        latest_checkpoint = model_dir\n",
    "        print(\"Loading model checkpoint {}...\\n\".format(latest_checkpoint))\n",
    "        saver.restore(sess, latest_checkpoint)\n",
    "        agent.sess = sess\n",
    "        \n",
    "        obs = state(img_dir)\n",
    "        feed_dict = {agent.obs0: [obs]}\n",
    "        conv_3 = sess.run(actor.conv_3,feed_dict=feed_dict)\n",
    "        conv_2 = sess.run(actor.conv_2,feed_dict=feed_dict)\n",
    "        conv_1 = sess.run(actor.conv_1,feed_dict=feed_dict)\n",
    "        dens_1 = sess.run(actor.dens_1,feed_dict=feed_dict)\n",
    "        dens_2 = sess.run(actor.dens_2,feed_dict=feed_dict)\n",
    "        out = sess.run(actor.out,feed_dict=feed_dict)\n",
    "        \n",
    "        conv_1 = conv_img(sess,conv_1,[32,1,15,15])\n",
    "        conv_2 = conv_img(sess,conv_2,[32,1,8,8])\n",
    "        conv_3 = conv_img(sess,conv_3,[32,1,8,8])\n",
    "        orginal_img = get_original_frame(img_dir)\n",
    "        \n",
    "        \n",
    "        plt.figure(num='astronaut',figsize=(12,12))\n",
    "        plt.imshow(orginal_img)\n",
    "        plt.figure(num='astronaut',figsize=(12,12))\n",
    "        plt.savefig(\"orginal_img.jpg\")\n",
    "        plt.close()\n",
    "        \n",
    "        plt.figure(num='astronaut',figsize=(12,12))\n",
    "        plt.imshow(conv_1)\n",
    "        plt.figure(num='astronaut',figsize=(12,12))\n",
    "        plt.savefig(\"conv_1.jpg\")\n",
    "        plt.close()\n",
    "        \n",
    "        plt.figure(num='astronaut',figsize=(12,12))\n",
    "        plt.imshow(conv_2)\n",
    "        plt.figure(num='astronaut',figsize=(12,12))\n",
    "        plt.savefig(\"conv_2.jpg\")\n",
    "        plt.close()\n",
    "        \n",
    "        plt.figure(num='astronaut',figsize=(12,12))\n",
    "        plt.imshow(conv_3)\n",
    "        plt.figure(num='astronaut',figsize=(12,12))\n",
    "        plt.savefig(\"conv_3.jpg\")\n",
    "        plt.close()\n",
    "        \n",
    "        plt.subplot(2,2,1)\n",
    "        plt.title('input image',fontsize = 60)\n",
    "        plt.imshow(orginal_img)\n",
    "        \n",
    "        plt.subplot(2,2,2)\n",
    "        plt.title('conv_1 image',fontsize = 60)\n",
    "        plt.imshow(conv_1)\n",
    "        \n",
    "        plt.subplot(2,2,3)\n",
    "        plt.title('conv_2 image',fontsize = 60)\n",
    "        plt.imshow(conv_2)\n",
    "        \n",
    "        plt.subplot(2,2,4)\n",
    "        plt.title('conv_3 image',fontsize = 60)\n",
    "        plt.imshow(conv_3)\n",
    "        \n",
    "        plt.savefig(\"visualisation.jpg\")\n",
    "        plt.show()\n",
    "        \n",
    "        print(\"fc1:\")\n",
    "        print(dens_1.shape)\n",
    "        print(dens_1)\n",
    "        \n",
    "        print(\"fc2:\")\n",
    "        print(dens_2.shape)\n",
    "        print(dens_2)\n",
    "        \n",
    "        print(\"output:\")\n",
    "        print(out)"
   ]
  },
  {
   "cell_type": "code",
   "execution_count": 6,
   "metadata": {},
   "outputs": [],
   "source": [
    "from model import Actor, Critic\n",
    "from memory import Memory\n",
    "from ddpg import DDPG\n",
    "import cv2\n",
    "from game_environment import Jump_Env as wechat_env"
   ]
  },
  {
   "cell_type": "code",
   "execution_count": 7,
   "metadata": {},
   "outputs": [],
   "source": [
    "actor_lr = 1e-4\n",
    "critic_lr = 1e-3\n",
    "tau = 0.01\n",
    "nb_actions = 1\n",
    "batch_size = 128\n",
    "limit=int(5000)\n",
    "noise_sigma = 0.1\n",
    "gamma = 0\n",
    "init_memory = 5\n",
    "# episodes = 10000\n",
    "start = 0\n",
    "end = 2000\n",
    "number_templet = [cv2.imread('templet/{}.jpg'.format(i)) for i in range(10)]\n",
    "restart_templet = cv2.imread('templet/again.jpg')\n",
    "env = wechat_env(number_templet=number_templet, restart_templet=restart_templet)\n",
    "actor = Actor(nb_actions, layer_norm=True)\n",
    "critic = Critic(layer_norm=True)\n",
    "memory = Memory(limit, action_shape=env.action_shape, observation_shape=env.observation_shape)"
   ]
  },
  {
   "cell_type": "code",
   "execution_count": 8,
   "metadata": {},
   "outputs": [],
   "source": [
    "model_dir = \"./experiments_9_1/checkpoints/model11700\"\n",
    "experiment_dir = os.path.abspath(\"./experiments_new/\")"
   ]
  },
  {
   "cell_type": "code",
   "execution_count": 9,
   "metadata": {},
   "outputs": [
    {
     "name": "stdout",
     "output_type": "stream",
     "text": [
      "Actor\n",
      "Critic\n",
      "Critic\n",
      "Actor\n",
      "Critic\n",
      "setting up target updates ...\n",
      "len 16 = 16\n",
      "{ target_actor/Conv/weights:0 } <- { actor/Conv/weights:0 }\n",
      "{ target_actor/Conv/biases:0 } <- { actor/Conv/biases:0 }\n",
      "{ target_actor/Conv_1/weights:0 } <- { actor/Conv_1/weights:0 }\n",
      "{ target_actor/Conv_1/biases:0 } <- { actor/Conv_1/biases:0 }\n",
      "{ target_actor/Conv_2/weights:0 } <- { actor/Conv_2/weights:0 }\n",
      "{ target_actor/Conv_2/biases:0 } <- { actor/Conv_2/biases:0 }\n",
      "{ target_actor/dense/kernel:0 } <- { actor/dense/kernel:0 }\n",
      "{ target_actor/dense/bias:0 } <- { actor/dense/bias:0 }\n",
      "{ target_actor/LayerNorm/beta:0 } <- { actor/LayerNorm/beta:0 }\n",
      "{ target_actor/LayerNorm/gamma:0 } <- { actor/LayerNorm/gamma:0 }\n",
      "{ target_actor/dense_1/kernel:0 } <- { actor/dense_1/kernel:0 }\n",
      "{ target_actor/dense_1/bias:0 } <- { actor/dense_1/bias:0 }\n",
      "{ target_actor/LayerNorm_1/beta:0 } <- { actor/LayerNorm_1/beta:0 }\n",
      "{ target_actor/LayerNorm_1/gamma:0 } <- { actor/LayerNorm_1/gamma:0 }\n",
      "{ target_actor/dense_2/kernel:0 } <- { actor/dense_2/kernel:0 }\n",
      "{ target_actor/dense_2/bias:0 } <- { actor/dense_2/bias:0 }\n",
      "setting up target updates ...\n",
      "len 16 = 16\n",
      "{ target_critic/Conv/weights:0 } <- { critic/Conv/weights:0 }\n",
      "{ target_critic/Conv/biases:0 } <- { critic/Conv/biases:0 }\n",
      "{ target_critic/Conv_1/weights:0 } <- { critic/Conv_1/weights:0 }\n",
      "{ target_critic/Conv_1/biases:0 } <- { critic/Conv_1/biases:0 }\n",
      "{ target_critic/Conv_2/weights:0 } <- { critic/Conv_2/weights:0 }\n",
      "{ target_critic/Conv_2/biases:0 } <- { critic/Conv_2/biases:0 }\n",
      "{ target_critic/dense/kernel:0 } <- { critic/dense/kernel:0 }\n",
      "{ target_critic/dense/bias:0 } <- { critic/dense/bias:0 }\n",
      "{ target_critic/LayerNorm/beta:0 } <- { critic/LayerNorm/beta:0 }\n",
      "{ target_critic/LayerNorm/gamma:0 } <- { critic/LayerNorm/gamma:0 }\n",
      "{ target_critic/dense_1/kernel:0 } <- { critic/dense_1/kernel:0 }\n",
      "{ target_critic/dense_1/bias:0 } <- { critic/dense_1/bias:0 }\n",
      "{ target_critic/LayerNorm_1/beta:0 } <- { critic/LayerNorm_1/beta:0 }\n",
      "{ target_critic/LayerNorm_1/gamma:0 } <- { critic/LayerNorm_1/gamma:0 }\n",
      "{ target_critic/dense_2/kernel:0 } <- { critic/dense_2/kernel:0 }\n",
      "{ target_critic/dense_2/bias:0 } <- { critic/dense_2/bias:0 }\n",
      "setting up actor optimizer\n",
      "WARNING:tensorflow:From C:\\Users\\Stephen_Bo\\Desktop\\FYP\\Final_Code\\ddpg.py:13: calling reduce_mean (from tensorflow.python.ops.math_ops) with keep_dims is deprecated and will be removed in a future version.\n",
      "Instructions for updating:\n",
      "keep_dims is deprecated, use keepdims instead\n"
     ]
    }
   ],
   "source": [
    "agent = DDPG(actor, critic, memory, env.observation_shape, env.action_shape,\n",
    "             actor_lr=actor_lr, critic_lr=critic_lr, batch_size=batch_size,\n",
    "             gamma=gamma, tau=tau)\n",
    "saver = tf.train.Saver(max_to_keep=20)\n",
    "checkpoint_dir = os.path.join(experiment_dir, \"checkpoints\")\n",
    "checkpoint_path = os.path.join(checkpoint_dir, \"model\")"
   ]
  },
  {
   "cell_type": "code",
   "execution_count": 10,
   "metadata": {},
   "outputs": [
    {
     "name": "stdout",
     "output_type": "stream",
     "text": [
      "Loading model checkpoint ./experiments_9_1/checkpoints/model11700...\n",
      "\n",
      "INFO:tensorflow:Restoring parameters from ./experiments_9_1/checkpoints/model11700\n"
     ]
    },
    {
     "name": "stderr",
     "output_type": "stream",
     "text": [
      "C:\\Users\\Stephen_Bo\\Anaconda3\\lib\\site-packages\\skimage\\transform\\_warps.py:84: UserWarning: The default mode, 'constant', will be changed to 'reflect' in skimage 0.15.\n",
      "  warn(\"The default mode, 'constant', will be changed to 'reflect' in \"\n"
     ]
    },
    {
     "data": {
      "image/png": "[encoded data removed]",
      "text/plain": [
       "<Figure size 432x288 with 4 Axes>"
      ]
     },
     "metadata": {},
     "output_type": "display_data"
    },
    {
     "name": "stdout",
     "output_type": "stream",
     "text": [
      "fc1:\n",
      "(1, 200)\n",
      "[[0.         1.5604938  0.         0.         0.         0.\n",
      "  0.         0.         0.         0.         0.         0.7292757\n",
      "  0.         0.52199376 1.2975655  1.1438429  0.         0.\n",
      "  0.         0.5837874  0.         0.         0.         0.60664934\n",
      "  1.3509967  0.         0.00710952 0.         0.         0.\n",
      "  0.         0.         1.9708778  0.         0.         0.\n",
      "  0.         0.07415807 1.1307689  0.50702965 0.03595901 0.4234991\n",
      "  2.2880864  1.6076581  0.         0.         0.         0.55553913\n",
      "  0.         0.         0.0971477  0.10505927 1.4701158  0.\n",
      "  0.         0.         0.         0.         0.         2.179245\n",
      "  0.         0.         0.6783421  0.9301957  0.         0.\n",
      "  0.         0.67292815 0.43147027 0.         0.88737464 0.\n",
      "  0.3462457  0.5344533  0.         0.         0.5263298  1.0288478\n",
      "  0.         0.41518837 0.3741284  0.         3.4161212  1.3985189\n",
      "  0.07168198 2.6600943  0.         0.         0.39173335 0.\n",
      "  0.         0.         0.         0.         2.2944956  0.\n",
      "  0.         0.724075   0.         0.68876386 0.243069   0.17843258\n",
      "  1.0927594  0.         1.5375153  0.         0.77994007 0.\n",
      "  0.         0.90021825 0.         0.32549757 0.         0.5356964\n",
      "  0.7557432  0.         0.         0.         0.         0.\n",
      "  1.4816134  1.2574782  0.         0.         0.         0.\n",
      "  0.         0.         0.         0.         0.         0.\n",
      "  0.         0.         0.         0.01447237 0.8467933  1.1826996\n",
      "  0.06375784 0.         1.6280996  0.47153395 0.         0.\n",
      "  1.4482391  1.908413   0.5411116  0.         0.         0.\n",
      "  0.         0.         0.20131183 0.96494794 2.446721   0.49505585\n",
      "  0.         0.         0.         0.562483   0.4075805  1.4888997\n",
      "  0.         0.7715255  0.         0.45527506 0.73011    1.3279471\n",
      "  0.         0.3830166  0.         0.         0.         0.\n",
      "  0.         0.         0.6019706  0.44044197 0.         0.\n",
      "  0.27366227 0.         2.2429812  0.99240166 0.         0.06271791\n",
      "  1.279447   0.         0.         0.18025124 1.6733987  0.\n",
      "  0.74997956 0.         0.56074315 0.41675723 0.43029088 0.\n",
      "  0.         2.9435623 ]]\n",
      "fc2:\n",
      "(1, 200)\n",
      "[[0.18984012 0.13958874 0.         0.269887   0.         0.\n",
      "  0.95423406 0.         0.16152678 0.         1.2605612  0.\n",
      "  0.         0.521904   0.3392256  0.22121826 0.1768812  0.83742213\n",
      "  0.17577522 0.2213932  0.         0.14519152 0.5757208  0.\n",
      "  1.4374001  0.         0.32365075 0.44515544 0.8425943  0.33291587\n",
      "  0.7220892  0.21326542 0.21383695 0.         0.8507787  0.\n",
      "  0.42568952 0.7599112  0.         1.110496   0.36138725 0.12669584\n",
      "  0.         0.         0.         0.56934273 0.         0.547105\n",
      "  0.         0.         0.7731031  1.0134774  0.083406   0.7434478\n",
      "  0.11077182 0.91278654 0.9192061  0.         1.3708513  0.\n",
      "  0.03913511 0.05770721 0.         0.         0.         0.\n",
      "  0.3592317  0.08609629 0.05155617 0.5102462  1.5229195  0.6632161\n",
      "  0.         0.16791661 0.         0.5709005  0.         0.\n",
      "  0.1078617  0.         0.         0.47437143 1.0574235  0.\n",
      "  0.7082247  0.30418172 0.         0.14281619 2.0728674  1.3562732\n",
      "  0.         0.         0.19206926 0.7755222  0.         0.\n",
      "  0.         0.         0.03890234 0.         0.         0.\n",
      "  0.         0.         0.27729374 0.         0.         0.\n",
      "  0.         0.605942   0.         0.         0.         0.27511883\n",
      "  0.         0.         0.         0.03810769 0.         0.23974554\n",
      "  0.43833643 1.4408096  0.7987655  0.         0.         0.\n",
      "  0.         0.36346477 0.         0.15707682 0.         1.2047682\n",
      "  0.61094344 0.         0.28658625 1.4771556  0.         0.75538254\n",
      "  0.6342308  1.2526113  0.33944708 0.         0.         0.40508273\n",
      "  0.         0.         2.329592   0.4415496  0.         0.\n",
      "  0.30269122 0.         0.01600461 0.774918   0.         0.\n",
      "  1.0815204  0.9848727  0.         0.         1.1144416  0.\n",
      "  0.0912098  0.09003142 0.         0.         1.0125388  0.\n",
      "  0.04794581 0.         0.50923914 0.43404186 0.         0.5778604\n",
      "  0.         0.3371593  0.         0.7102452  0.38120192 0.46012357\n",
      "  1.0209417  0.         0.         0.3802145  0.5364249  0.06633657\n",
      "  0.         0.2972969  0.94015175 0.411365   0.         0.01175129\n",
      "  0.44547677 0.         0.92951083 0.90721285 0.5270373  0.\n",
      "  0.43541664 1.4339197 ]]\n",
      "output:\n",
      "[[-0.25724554]]\n"
     ]
    }
   ],
   "source": [
    "visualisation(img_dir= state1[1] ,agent=agent,model_dir=model_dir)"
   ]
  },
  {
   "cell_type": "code",
   "execution_count": null,
   "metadata": {},
   "outputs": [],
   "source": []
  }
 ],
 "metadata": {
  "kernelspec": {
   "display_name": "Python 3",
   "language": "python",
   "name": "python3"
  },
  "language_info": {
   "codemirror_mode": {
    "name": "ipython",
    "version": 3
   },
   "file_extension": ".py",
   "mimetype": "text/x-python",
   "name": "python",
   "nbconvert_exporter": "python",
   "pygments_lexer": "ipython3",
   "version": "3.6.5"
  }
 },
 "nbformat": 4,
 "nbformat_minor": 2
}
