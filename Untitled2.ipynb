{
 "cells": [
  {
   "cell_type": "markdown",
   "metadata": {},
   "source": [
    "# OpenCV Code"
   ]
  },
  {
   "cell_type": "code",
   "execution_count": 1,
   "metadata": {},
   "outputs": [],
   "source": [
    "import cv2\n",
    "import numpy as np\n",
    "from PIL import ImageGrab\n",
    "import random\n",
    "import os\n",
    "import matplotlib.pyplot as plt\n",
    "import time as sys_time"
   ]
  },
  {
   "cell_type": "code",
   "execution_count": 2,
   "metadata": {},
   "outputs": [],
   "source": [
    "def pull_screenshot(file_name):\n",
    "    # Get screenshot\n",
    "    os.system('adb shell screencap -p /sdcard/%s' % file_name)\n",
    "    os.system('adb pull /sdcard/%s .' % file_name)"
   ]
  },
  {
   "cell_type": "code",
   "execution_count": 3,
   "metadata": {},
   "outputs": [],
   "source": [
    "def find_head(img, output_img):\n",
    "    head_found = False\n",
    "    trial_cnt = 0\n",
    "    while(head_found == False):\n",
    "        kernel = cv2.getStructuringElement(cv2.MORPH_RECT, (5, 5))\n",
    "        closed = cv2.morphologyEx(img, cv2.MORPH_CLOSE, kernel)\n",
    "        edges = cv2.Canny(closed, 200, 200)\n",
    "        circles = cv2.HoughCircles(edges, cv2.HOUGH_GRADIENT, 2, 180 - trial_cnt *10,param1=100, param2=65, minRadius=12, maxRadius=18)\n",
    "        gray = cv2.cvtColor(closed, cv2.COLOR_RGB2GRAY)\n",
    "        if(circles is not None):\n",
    "            head_found = True\n",
    "        else:\n",
    "            if (trial_cnt > 5):\n",
    "                return 0, 0, 0\n",
    "        trial_cnt += 1\n",
    "    circles = np.uint16(np.around(circles))\n",
    "    xo=0\n",
    "    yo=0\n",
    "    ro=0\n",
    "    for i in circles[0, :]:\n",
    "        x = i[0]\n",
    "        y = i[1]\n",
    "        r = i[2]\n",
    "        if (r < 25 and y > 380 and y < 520 ):\n",
    "            cv2.circle(output_img, (i[0], i[1]), i[2], (128, 0, 255), 2)\n",
    "            cv2.circle(output_img, (i[0], i[1]), 2, (128, 0, 255), 3)\n",
    "            if((y < yo or yo is  0 )):\n",
    "                xo=x\n",
    "                yo=y\n",
    "                ro=r\n",
    "        else:\n",
    "            cv2.circle(output_img, (i[0], i[1]), i[2], (127, 127, 0), 2)\n",
    "            cv2.circle(output_img, (i[0], i[1]), 2, (127, 127, 0), 3)\n",
    "    cv2.line(output_img, (0, 380), (540, 380), (128, 0, 255), 1)\n",
    "    cv2.line(output_img, (0, 530), (540, 530), (128, 0, 255), 1)\n",
    "    return xo, yo, ro"
   ]
  },
  {
   "cell_type": "code",
   "execution_count": 4,
   "metadata": {},
   "outputs": [],
   "source": [
    "def find_foot_loc(x,y,r):\n",
    "    xo = x\n",
    "    yo = y + 75\n",
    "    return (xo, yo)"
   ]
  },
  {
   "cell_type": "code",
   "execution_count": 5,
   "metadata": {},
   "outputs": [],
   "source": [
    "def find_target_loc(img, output_img, loc_foot, index = 0):\n",
    "\n",
    "    edges = cv2.Canny(img, 15, 70)\n",
    "\n",
    "    points = cv2.findNonZero(edges)\n",
    "    for point in points:\n",
    "        x = point[0][0]\n",
    "        y = point[0][1]\n",
    "        if y < 250:\n",
    "            continue\n",
    "        if np.abs(x - loc_foot[0]) < 30:\n",
    "            continue\n",
    "        if loc_foot[1] - y < 30:\n",
    "            continue\n",
    "        if x < 50 or x > 540 - 50:\n",
    "            continue\n",
    "        break\n",
    "    xo = x\n",
    "    yo = y + 45\n",
    "    if index > 33:\n",
    "        yo = y + 35\n",
    "    if index > 75:\n",
    "        yo = y + 20\n",
    "    cv2.imshow('Canny Line', edges)\n",
    "    return (xo, yo)"
   ]
  },
  {
   "cell_type": "code",
   "execution_count": 6,
   "metadata": {},
   "outputs": [],
   "source": [
    "def draw_loc(imgin, loc, color = (0, 0, 255)):\n",
    "    loc = np.uint16(np.around(loc))\n",
    "    cv2.putText(imgin, '(' + str(loc[0]) + ',' + str(loc[1]) + \")\", (loc[0] + 30, loc[1] +30), cv2.FONT_HERSHEY_PLAIN , 2, color, 2)\n",
    "    return\n",
    "def draw_text(imgin, loc, text):\n",
    "    loc = np.uint16(np.around(loc))\n",
    "    cv2.putText(imgin, text, (loc[0] + 10, loc[1] +30), cv2.FONT_HERSHEY_PLAIN , 2, (255, 125, 127), 2)\n",
    "    return"
   ]
  },
  {
   "cell_type": "code",
   "execution_count": 7,
   "metadata": {},
   "outputs": [],
   "source": [
    "def jump(press_time):\n",
    "    rand = random.randint(0, 9) * 10\n",
    "    cmd = ('adb shell input swipe %i %i %i %i ' + str(press_time)) \\\n",
    "          % (320 + rand, 410 + rand, 320 + rand, 410 + rand)\n",
    "    os.system(cmd)"
   ]
  },
  {
   "cell_type": "code",
   "execution_count": 8,
   "metadata": {},
   "outputs": [],
   "source": [
    "def get_openvv_presstime(file_name,step):\n",
    "    press_time = 0\n",
    "    while 1:\n",
    "        img = cv2.imread(file_name)\n",
    "        img = cv2.resize(img, (540, 960))\n",
    "        output_img = img.copy()\n",
    "        gray = cv2.cvtColor(img, cv2.COLOR_RGB2GRAY)\n",
    "        i = find_head(img, output_img) \n",
    "        if(i[2] == 0):\n",
    "            cv2.waitKey(500)\n",
    "            continue\n",
    "        loc_foot = find_foot_loc(i[0],i[1],i[2])\n",
    "        loc_target = find_target_loc(img, output_img, loc_foot, step)\n",
    "        dist = np.sqrt((loc_target[0] - loc_foot[0])*(loc_target[0] - loc_foot[0]) + (loc_target[1] - loc_foot[1])*(loc_target[1] - loc_foot[1]))\n",
    "        time = dist / 365\n",
    "        cv2.circle(output_img, loc_foot, 3, (255,0,255), 3)\n",
    "        draw_loc(output_img, loc_foot, (255,0,0))           \n",
    "        cv2.circle(output_img, loc_target, 3, (255, 0, 255), 3)\n",
    "        draw_loc(output_img, loc_target, (255,0,0))\n",
    "        cv2.line(output_img, loc_foot, loc_target, (255,0,0), 3)\n",
    "        draw_text(output_img, (50, 200), 'Distance  :' + str(np.int(dist)) + 'pix')\n",
    "        draw_text(output_img, (50, 250), '[OpenCV]Press time:' + str(np.int(time*1000)) + 'ms')\n",
    "        cv2.putText(output_img, 'Step:'+ str(step), (50,50), cv2.FONT_HERSHEY_SIMPLEX, 1, (255, 0, 225), 2)\n",
    "        plt.figure(figsize=(10,5))\n",
    "        cv2.imwrite(\"./opencv_img/testbak.jpg\", output_img)\n",
    "        press_time = int(np.int(time*1000))\n",
    "        plt.imshow(output_img)\n",
    "        plt.show()\n",
    "        break\n",
    "    return press_time"
   ]
  },
  {
   "cell_type": "code",
   "execution_count": 9,
   "metadata": {},
   "outputs": [],
   "source": [
    "step = 0\n",
    "fault = 0\n",
    "fault_cnt = 0\n",
    "file_name = 'opencv.jpg'"
   ]
  },
  {
   "cell_type": "code",
   "execution_count": 10,
   "metadata": {},
   "outputs": [
    {
     "data": {
      "image/png": "[encoded data removed]",
      "text/plain": [
       "<Figure size 720x360 with 1 Axes>"
      ]
     },
     "metadata": {},
     "output_type": "display_data"
    },
    {
     "name": "stdout",
     "output_type": "stream",
     "text": [
      "761\n"
     ]
    },
    {
     "ename": "KeyboardInterrupt",
     "evalue": "",
     "output_type": "error",
     "traceback": [
      "\u001b[1;31m---------------------------------------------------------------------------\u001b[0m",
      "\u001b[1;31mKeyboardInterrupt\u001b[0m                         Traceback (most recent call last)",
      "\u001b[1;32m<ipython-input-10-db6f0c74ca42>\u001b[0m in \u001b[0;36m<module>\u001b[1;34m()\u001b[0m\n\u001b[0;32m      5\u001b[0m     \u001b[0mprint\u001b[0m\u001b[1;33m(\u001b[0m\u001b[0mpress_time\u001b[0m\u001b[1;33m)\u001b[0m\u001b[1;33m\u001b[0m\u001b[0m\n\u001b[0;32m      6\u001b[0m     \u001b[0mjump\u001b[0m\u001b[1;33m(\u001b[0m\u001b[0mpress_time\u001b[0m\u001b[1;33m)\u001b[0m\u001b[1;33m\u001b[0m\u001b[0m\n\u001b[1;32m----> 7\u001b[1;33m     \u001b[0msys_time\u001b[0m\u001b[1;33m.\u001b[0m\u001b[0msleep\u001b[0m\u001b[1;33m(\u001b[0m\u001b[1;36m1\u001b[0m\u001b[1;33m)\u001b[0m\u001b[1;33m\u001b[0m\u001b[0m\n\u001b[0m",
      "\u001b[1;31mKeyboardInterrupt\u001b[0m: "
     ]
    }
   ],
   "source": [
    "while 1:\n",
    "    step = step +  1\n",
    "    pull_screenshot(file_name)\n",
    "    press_time = get_openvv_presstime(file_name,step)\n",
    "    print(press_time)\n",
    "    jump(press_time)\n",
    "    sys_time.sleep(1)"
   ]
  },
  {
   "cell_type": "code",
   "execution_count": 11,
   "metadata": {},
   "outputs": [
    {
     "data": {
      "image/png": "[encoded data removed]",
      "text/plain": [
       "<Figure size 720x360 with 1 Axes>"
      ]
     },
     "metadata": {},
     "output_type": "display_data"
    },
    {
     "name": "stdout",
     "output_type": "stream",
     "text": [
      "734\n"
     ]
    }
   ],
   "source": [
    "test = get_openvv_presstime(\"./nalu_img/1535333631.jpg\",1)\n",
    "print(test)"
   ]
  },
  {
   "cell_type": "code",
   "execution_count": null,
   "metadata": {},
   "outputs": [],
   "source": []
  }
 ],
 "metadata": {
  "kernelspec": {
   "display_name": "Python 3",
   "language": "python",
   "name": "python3"
  },
  "language_info": {
   "codemirror_mode": {
    "name": "ipython",
    "version": 3
   },
   "file_extension": ".py",
   "mimetype": "text/x-python",
   "name": "python",
   "nbconvert_exporter": "python",
   "pygments_lexer": "ipython3",
   "version": "3.6.5"
  }
 },
 "nbformat": 4,
 "nbformat_minor": 2
}
