{
 "cells": [
  {
   "cell_type": "markdown",
   "metadata": {},
   "source": [
    "# This is data collection code for collecting pre-training data for DDPG"
   ]
  },
  {
   "cell_type": "code",
   "execution_count": 1,
   "metadata": {},
   "outputs": [],
   "source": [
    "import tensorflow as tf     \n",
    "import numpy as np          \n",
    "import os"
   ]
  },
  {
   "cell_type": "code",
   "execution_count": 2,
   "metadata": {},
   "outputs": [],
   "source": [
    "import cv2\n",
    "import numpy as np\n",
    "from PIL import ImageGrab\n",
    "import random\n",
    "import matplotlib.pyplot as plt\n",
    "import time as sys_time\n",
    "import pymysql\n",
    "import time\n",
    "from PIL import Image"
   ]
  },
  {
   "cell_type": "code",
   "execution_count": 3,
   "metadata": {},
   "outputs": [],
   "source": [
    "def insert(ddpg,opencv,img):\n",
    "    db = pymysql.connect(\"localhost\", \"root\", \"root\", \"test\")\n",
    "    cursor = db.cursor()\n",
    "    insert = \"INSERT INTO nalu(ddpg_presstime,opencv_presstime,img) VALUES('%s','%s','%s')\"%(ddpg,opencv,img)\n",
    "    result = cursor.execute(insert)\n",
    "    db.close()\n",
    "    print(insert)\n",
    "    return result\n",
    "def collect_training_data(state1,action,state2,reward,dead_judge):\n",
    "    db = pymysql.connect(\"localhost\", \"root\", \"root\", \"test\")\n",
    "    cursor = db.cursor()\n",
    "    insert = \"INSERT INTO fyp(state1,action,state2,reward,dead_judge) VALUES('%s','%s','%s','%s','%s')\"%(state1,action,state2,reward,dead_judge)\n",
    "    result = cursor.execute(insert)\n",
    "    db.close()\n",
    "    print(insert)\n",
    "    return result\n",
    "def save_training_img(img_state):\n",
    "    state_dir = \"./trainingdata_imgs/\"+get_time() + \".jpg\"\n",
    "    cv2.imwrite(state_dir, img_state)\n",
    "    return state_dir"
   ]
  },
  {
   "cell_type": "code",
   "execution_count": 4,
   "metadata": {},
   "outputs": [],
   "source": [
    "def get_time():\n",
    "    return str(int(time.time()))"
   ]
  },
  {
   "cell_type": "code",
   "execution_count": 5,
   "metadata": {},
   "outputs": [],
   "source": [
    "def find_head(img, output_img):\n",
    "    head_found = False\n",
    "    trial_cnt = 0\n",
    "    while(head_found == False):\n",
    "        kernel = cv2.getStructuringElement(cv2.MORPH_RECT, (5, 5))\n",
    "        closed = cv2.morphologyEx(img, cv2.MORPH_CLOSE, kernel)\n",
    "        edges = cv2.Canny(closed, 200, 200)\n",
    "        circles = cv2.HoughCircles(edges, cv2.HOUGH_GRADIENT, 2, 180 - trial_cnt *10,param1=100, param2=65, minRadius=12, maxRadius=18)\n",
    "        gray = cv2.cvtColor(closed, cv2.COLOR_RGB2GRAY)\n",
    "        if(circles is not None):\n",
    "            head_found = True\n",
    "        else:\n",
    "            if (trial_cnt > 5):     # return 0 as error.\n",
    "                return 0, 0, 0\n",
    "        trial_cnt += 1\n",
    "    circles = np.uint16(np.around(circles))\n",
    "    xo=0\n",
    "    yo=0\n",
    "    ro=0\n",
    "    for i in circles[0, :]:\n",
    "        x = i[0]\n",
    "        y = i[1]\n",
    "        r = i[2]\n",
    "        if (r < 25 and y > 380 and y < 520 ):\n",
    "            cv2.circle(output_img, (i[0], i[1]), i[2], (128, 0, 255), 2)  # outer\n",
    "            cv2.circle(output_img, (i[0], i[1]), 2, (128, 0, 255), 3)  # centre\n",
    "            if((y < yo or yo is  0 )):\n",
    "                xo=x\n",
    "                yo=y\n",
    "                ro=r\n",
    "        else:\n",
    "            cv2.circle(output_img, (i[0], i[1]), i[2], (127, 127, 0), 2)\n",
    "            cv2.circle(output_img, (i[0], i[1]), 2, (127, 127, 0), 3)\n",
    "    cv2.line(output_img, (0, 380), (540, 380), (128, 0, 255), 1)\n",
    "    cv2.line(output_img, (0, 530), (540, 530), (128, 0, 255), 1)\n",
    "    return xo, yo, ro\n",
    "def find_foot_loc(x,y,r):\n",
    "    xo = x\n",
    "    yo = y + 75\n",
    "    return (xo, yo)\n",
    "def find_target_loc(img, output_img, loc_foot, index = 0):\n",
    "    edges = cv2.Canny(img, 15, 70)\n",
    "    points = cv2.findNonZero(edges)\n",
    "    for point in points:\n",
    "        x = point[0][0]\n",
    "        y = point[0][1]\n",
    "        if y < 250:\n",
    "            continue\n",
    "        if np.abs(x - loc_foot[0]) < 30:\n",
    "            continue\n",
    "        if loc_foot[1] - y < 30:\n",
    "            continue\n",
    "        if x < 50 or x > 540 - 50:\n",
    "            continue\n",
    "        break\n",
    "    xo = x\n",
    "    yo = y + 45\n",
    "    if index > 33:\n",
    "        yo = y + 35\n",
    "    if index > 75:\n",
    "        yo = y + 20\n",
    "    return (xo, yo)\n",
    "def draw_loc(imgin, loc, color = (0, 0, 255)):\n",
    "    loc = np.uint16(np.around(loc))\n",
    "    cv2.putText(imgin, '(' + str(loc[0]) + ',' + str(loc[1]) + \")\", (loc[0] + 30, loc[1] +30), cv2.FONT_HERSHEY_PLAIN , 2, color, 2)\n",
    "    return\n",
    "def draw_text(imgin, loc, text):\n",
    "    loc = np.uint16(np.around(loc))\n",
    "    cv2.putText(imgin, text, (loc[0] + 10, loc[1] +30), cv2.FONT_HERSHEY_PLAIN , 2, (255, 125, 127), 2)\n",
    "    return"
   ]
  },
  {
   "cell_type": "code",
   "execution_count": 6,
   "metadata": {},
   "outputs": [],
   "source": [
    "def get_openv_presstime(file_name,step,press_time_ddpg):\n",
    "    press_time = 0\n",
    "    \n",
    "    while 1:\n",
    "        flag = True\n",
    "        img = cv2.imread(file_name)\n",
    "        img = cv2.resize(img, (540, 960))\n",
    "        output_img = img.copy()\n",
    "        gray = cv2.cvtColor(img, cv2.COLOR_RGB2GRAY)\n",
    "        i = find_head(img, output_img)\n",
    "        if(i[2] == 0):\n",
    "            flag = False\n",
    "            print(\"opencv can't find circle.\")\n",
    "            #continue\n",
    "        loc_foot = find_foot_loc(i[0],i[1],i[2])\n",
    "        loc_target = find_target_loc(img, output_img, loc_foot, step)\n",
    "        dist = np.sqrt((loc_target[0] - loc_foot[0])*(loc_target[0] - loc_foot[0]) + (loc_target[1] - loc_foot[1])*(loc_target[1] - loc_foot[1]))\n",
    "        time = dist / 365\n",
    "        cv2.circle(output_img, loc_foot, 3, (255,0,255), 3)\n",
    "        draw_loc(output_img, loc_foot, (255,0,0))           \n",
    "        cv2.circle(output_img, loc_target, 3, (255, 0, 255), 3)\n",
    "        draw_loc(output_img, loc_target, (255,0,0))\n",
    "        cv2.line(output_img, loc_foot, loc_target, (255,0,0), 3)\n",
    "        draw_text(output_img, (50, 200), 'Distance  :' + str(np.int(dist)) + 'pix')\n",
    "        draw_text(output_img, (50, 250), '[OpenCV]Press time:' + str(np.int(time*1000)) + 'ms')\n",
    "        draw_text(output_img, (50, 300), '[DDPG]  Press time:' + str(int(press_time_ddpg)) + 'ms')\n",
    "        cv2.putText(output_img, 'Step:'+ str(step), (50,50), cv2.FONT_HERSHEY_SIMPLEX, 1, (255, 0, 225), 2)\n",
    "        plt.figure(figsize=(10,5))\n",
    "        dir_name = \"./opencv_img/\"+get_time() + \".jpg\"\n",
    "        cv2.imwrite(dir_name, output_img)\n",
    "        press_time = int(np.int(time*1000))\n",
    "        plt.imshow(output_img)\n",
    "        plt.show()\n",
    "        break\n",
    "    return press_time,dir_name,flag"
   ]
  },
  {
   "cell_type": "code",
   "execution_count": 7,
   "metadata": {},
   "outputs": [],
   "source": [
    "def action_to_presstime(action):\n",
    "    presstime = (action + 1) * 600 + 200\n",
    "    presstime = int(presstime)\n",
    "    return presstime\n",
    "def presstime_to_action(presstime):\n",
    "    action = (presstime - 200) / 600 - 1\n",
    "    return action"
   ]
  },
  {
   "cell_type": "code",
   "execution_count": 8,
   "metadata": {},
   "outputs": [],
   "source": [
    "def show_conv(sess,conv,shape):\n",
    "    conv = sess.run(tf.reshape(conv , shape))\n",
    "    conv = np.sum(conv,axis = 0)\n",
    "    conv = np.asmatrix(conv)\n",
    "    conv = Image.fromarray(conv * 255.0 / conv.max())\n",
    "    plt.imshow(conv)\n",
    "    plt.show()"
   ]
  },
  {
   "cell_type": "code",
   "execution_count": 9,
   "metadata": {
    "scrolled": true
   },
   "outputs": [],
   "source": [
    "def test(env, init_memory, model_dir, experiment_dir,\n",
    "                         actor, critic, memory,\n",
    "                         actor_lr, critic_lr, batch_size,\n",
    "                         gamma, tau=0.01):\n",
    "    agent = DDPG(actor, critic, memory, env.observation_shape, env.action_shape,\n",
    "                 actor_lr=actor_lr, critic_lr=critic_lr, batch_size=batch_size,\n",
    "                 gamma=gamma, tau=tau)\n",
    "    saver = tf.train.Saver(max_to_keep=20)\n",
    "    checkpoint_dir = os.path.join(experiment_dir, \"checkpoints\")\n",
    "    checkpoint_path = os.path.join(checkpoint_dir, \"model\")\n",
    "    if not os.path.exists(checkpoint_dir):\n",
    "        os.makedirs(checkpoint_dir)\n",
    "    summary_dir = os.path.join(experiment_dir, \"summaries\")\n",
    "    if not os.path.exists(summary_dir):\n",
    "        os.makedirs(summary_dir)\n",
    "    summary_writer = tf.summary.FileWriter(summary_dir)\n",
    "    summary = tf.Summary()\n",
    "    episode_summary = tf.Summary()\n",
    "    with tf.Session() as sess:\n",
    "        latest_checkpoint = model_dir\n",
    "        if latest_checkpoint:\n",
    "            print(\"Loading model checkpoint {}...\\n\".format(latest_checkpoint))\n",
    "            saver.restore(sess, latest_checkpoint)\n",
    "            agent.sess = sess\n",
    "        else:\n",
    "            print('Building new model...')\n",
    "            agent.initialize(sess)\n",
    "        step = 0\n",
    "        while 1:\n",
    "            obs0 = env.reset()\n",
    "            while 1:\n",
    "                step = step + 1\n",
    "                feed_dict = {agent.obs0: [obs0]}\n",
    "                print(obs0)\n",
    "                action = sess.run(agent.actor_tf, feed_dict=feed_dict)\n",
    "                print(action)\n",
    "                action = action.flatten()\n",
    "                press_time_ddpg = action_to_presstime(action)\n",
    "                press_time_opencv,dir_name,flag = get_openv_presstime(\"autojump.jpg\",step,press_time_ddpg)\n",
    "                print(\"ddpg press time is:%f\"%press_time_ddpg)\n",
    "                print(\"opencv press time is:%f\"%press_time_opencv)\n",
    "                action = presstime_to_action(press_time_opencv)\n",
    "                img = cv2.imread(\"autojump.jpg\")\n",
    "                state1_dir = save_training_img(img)\n",
    "                obs1, reward, done, score = env.step(action)\n",
    "                img = cv2.imread(\"autojump.jpg\")\n",
    "                state2_dir = save_training_img(img)\n",
    "                if flag:\n",
    "                    collect_training_data(state1_dir,str(action),state2_dir,str(reward),\"0\")\n",
    "                if done:\n",
    "                    break\n",
    "                else:\n",
    "                    obs0 =obs1"
   ]
  },
  {
   "cell_type": "code",
   "execution_count": 10,
   "metadata": {},
   "outputs": [],
   "source": [
    "from model import Actor, Critic\n",
    "from memory import Memory\n",
    "from ddpg import DDPG\n",
    "import cv2\n",
    "from game_environment import Jump_Env as wechat_env"
   ]
  },
  {
   "cell_type": "code",
   "execution_count": 11,
   "metadata": {},
   "outputs": [],
   "source": [
    "actor_lr = 1e-4\n",
    "critic_lr = 1e-3\n",
    "tau = 0.01\n",
    "nb_actions = 1\n",
    "batch_size = 128\n",
    "limit=int(5000)\n",
    "gamma = 0\n",
    "init_memory = 5\n",
    "# episodes = 10000\n",
    "model_dir = \"./experiments/checkpoints/model6000\"#None\n",
    "experiment_dir = os.path.abspath(\"./experiments/\")\n",
    "number_templet = [cv2.imread('templet/{}.jpg'.format(i)) for i in range(10)]\n",
    "restart_templet = cv2.imread('templet/again.jpg')\n",
    "env = wechat_env(number_templet=number_templet, restart_templet=restart_templet)\n",
    "actor = Actor(nb_actions, layer_norm=True)\n",
    "critic = Critic(layer_norm=True)\n",
    "memory = Memory(limit, action_shape=env.action_shape, observation_shape=env.observation_shape)"
   ]
  },
  {
   "cell_type": "code",
   "execution_count": 12,
   "metadata": {},
   "outputs": [
    {
     "name": "stdout",
     "output_type": "stream",
     "text": [
      "Actor\n",
      "Critic\n",
      "Critic\n",
      "Actor\n",
      "Critic\n",
      "setting up target updates ...\n",
      "len 16 = 16\n",
      "{ target_actor/Conv/weights:0 } <- { actor/Conv/weights:0 }\n",
      "{ target_actor/Conv/biases:0 } <- { actor/Conv/biases:0 }\n",
      "{ target_actor/Conv_1/weights:0 } <- { actor/Conv_1/weights:0 }\n",
      "{ target_actor/Conv_1/biases:0 } <- { actor/Conv_1/biases:0 }\n",
      "{ target_actor/Conv_2/weights:0 } <- { actor/Conv_2/weights:0 }\n",
      "{ target_actor/Conv_2/biases:0 } <- { actor/Conv_2/biases:0 }\n",
      "{ target_actor/dense/kernel:0 } <- { actor/dense/kernel:0 }\n",
      "{ target_actor/dense/bias:0 } <- { actor/dense/bias:0 }\n",
      "{ target_actor/LayerNorm/beta:0 } <- { actor/LayerNorm/beta:0 }\n",
      "{ target_actor/LayerNorm/gamma:0 } <- { actor/LayerNorm/gamma:0 }\n",
      "{ target_actor/dense_1/kernel:0 } <- { actor/dense_1/kernel:0 }\n",
      "{ target_actor/dense_1/bias:0 } <- { actor/dense_1/bias:0 }\n",
      "{ target_actor/LayerNorm_1/beta:0 } <- { actor/LayerNorm_1/beta:0 }\n",
      "{ target_actor/LayerNorm_1/gamma:0 } <- { actor/LayerNorm_1/gamma:0 }\n",
      "{ target_actor/dense_2/kernel:0 } <- { actor/dense_2/kernel:0 }\n",
      "{ target_actor/dense_2/bias:0 } <- { actor/dense_2/bias:0 }\n",
      "setting up target updates ...\n",
      "len 16 = 16\n",
      "{ target_critic/Conv/weights:0 } <- { critic/Conv/weights:0 }\n",
      "{ target_critic/Conv/biases:0 } <- { critic/Conv/biases:0 }\n",
      "{ target_critic/Conv_1/weights:0 } <- { critic/Conv_1/weights:0 }\n",
      "{ target_critic/Conv_1/biases:0 } <- { critic/Conv_1/biases:0 }\n",
      "{ target_critic/Conv_2/weights:0 } <- { critic/Conv_2/weights:0 }\n",
      "{ target_critic/Conv_2/biases:0 } <- { critic/Conv_2/biases:0 }\n",
      "{ target_critic/dense/kernel:0 } <- { critic/dense/kernel:0 }\n",
      "{ target_critic/dense/bias:0 } <- { critic/dense/bias:0 }\n",
      "{ target_critic/LayerNorm/beta:0 } <- { critic/LayerNorm/beta:0 }\n",
      "{ target_critic/LayerNorm/gamma:0 } <- { critic/LayerNorm/gamma:0 }\n",
      "{ target_critic/dense_1/kernel:0 } <- { critic/dense_1/kernel:0 }\n",
      "{ target_critic/dense_1/bias:0 } <- { critic/dense_1/bias:0 }\n",
      "{ target_critic/LayerNorm_1/beta:0 } <- { critic/LayerNorm_1/beta:0 }\n",
      "{ target_critic/LayerNorm_1/gamma:0 } <- { critic/LayerNorm_1/gamma:0 }\n",
      "{ target_critic/dense_2/kernel:0 } <- { critic/dense_2/kernel:0 }\n",
      "{ target_critic/dense_2/bias:0 } <- { critic/dense_2/bias:0 }\n",
      "setting up actor optimizer\n",
      "WARNING:tensorflow:From C:\\Users\\Stephen_Bo\\Desktop\\FYP\\Final_Code\\ddpg.py:13: calling reduce_mean (from tensorflow.python.ops.math_ops) with keep_dims is deprecated and will be removed in a future version.\n",
      "Instructions for updating:\n",
      "keep_dims is deprecated, use keepdims instead\n",
      "Loading model checkpoint ./experiments/checkpoints/model6000...\n",
      "\n",
      "INFO:tensorflow:Restoring parameters from ./experiments/checkpoints/model6000\n"
     ]
    },
    {
     "name": "stderr",
     "output_type": "stream",
     "text": [
      "C:\\Users\\Stephen_Bo\\Anaconda3\\lib\\site-packages\\skimage\\transform\\_warps.py:84: UserWarning: The default mode, 'constant', will be changed to 'reflect' in skimage 0.15.\n",
      "  warn(\"The default mode, 'constant', will be changed to 'reflect' in \"\n"
     ]
    },
    {
     "data": {
      "image/png": "[encoded data removed]",
      "text/plain": [
       "<Figure size 432x288 with 1 Axes>"
      ]
     },
     "metadata": {},
     "output_type": "display_data"
    },
    {
     "name": "stdout",
     "output_type": "stream",
     "text": [
      "[[[0.11265725]\n",
      "  [0.11265725]\n",
      "  [0.11265725]\n",
      "  ...\n",
      "  [0.11265725]\n",
      "  [0.11265725]\n",
      "  [0.11265725]]\n",
      "\n",
      " [[0.11265725]\n",
      "  [0.11265725]\n",
      "  [0.11265725]\n",
      "  ...\n",
      "  [0.11265725]\n",
      "  [0.11265725]\n",
      "  [0.11265725]]\n",
      "\n",
      " [[0.11487451]\n",
      "  [0.11487451]\n",
      "  [0.11487451]\n",
      "  ...\n",
      "  [0.11487451]\n",
      "  [0.11487451]\n",
      "  [0.11487451]]\n",
      "\n",
      " ...\n",
      "\n",
      " [[0.10611026]\n",
      "  [0.10611026]\n",
      "  [0.10611026]\n",
      "  ...\n",
      "  [0.10611026]\n",
      "  [0.10611026]\n",
      "  [0.10611026]]\n",
      "\n",
      " [[0.10699451]\n",
      "  [0.10699451]\n",
      "  [0.10699451]\n",
      "  ...\n",
      "  [0.10699451]\n",
      "  [0.10699451]\n",
      "  [0.10699451]]\n",
      "\n",
      " [[0.10449451]\n",
      "  [0.10449451]\n",
      "  [0.10449451]\n",
      "  ...\n",
      "  [0.10449451]\n",
      "  [0.10449451]\n",
      "  [0.10449451]]]\n",
      "(1, 8, 8, 32)\n",
      "(1, 8, 8, 32)\n",
      "(1, 15, 15, 32)\n"
     ]
    },
    {
     "data": {
      "image/png": "[encoded data removed]",
      "text/plain": [
       "<Figure size 432x288 with 1 Axes>"
      ]
     },
     "metadata": {},
     "output_type": "display_data"
    },
    {
     "data": {
      "image/png": "[encoded data removed]",
      "text/plain": [
       "<Figure size 432x288 with 1 Axes>"
      ]
     },
     "metadata": {},
     "output_type": "display_data"
    },
    {
     "data": {
      "image/png": "[encoded data removed]",
      "text/plain": [
       "<Figure size 432x288 with 1 Axes>"
      ]
     },
     "metadata": {},
     "output_type": "display_data"
    },
    {
     "data": {
      "image/png": "[encoded data removed]",
      "text/plain": [
       "<Figure size 432x288 with 1 Axes>"
      ]
     },
     "metadata": {},
     "output_type": "display_data"
    },
    {
     "name": "stdout",
     "output_type": "stream",
     "text": [
      "[[[0.11265725]\n",
      "  [0.11265725]\n",
      "  [0.11265725]\n",
      "  ...\n",
      "  [0.11265725]\n",
      "  [0.11265725]\n",
      "  [0.11265725]]\n",
      "\n",
      " [[0.11265725]\n",
      "  [0.11265725]\n",
      "  [0.11265725]\n",
      "  ...\n",
      "  [0.11265725]\n",
      "  [0.11265725]\n",
      "  [0.11265725]]\n",
      "\n",
      " [[0.11487451]\n",
      "  [0.11487451]\n",
      "  [0.11487451]\n",
      "  ...\n",
      "  [0.11487451]\n",
      "  [0.11487451]\n",
      "  [0.11487451]]\n",
      "\n",
      " ...\n",
      "\n",
      " [[0.10611026]\n",
      "  [0.10611026]\n",
      "  [0.10611026]\n",
      "  ...\n",
      "  [0.10611026]\n",
      "  [0.10611026]\n",
      "  [0.10611026]]\n",
      "\n",
      " [[0.10699451]\n",
      "  [0.10699451]\n",
      "  [0.10699451]\n",
      "  ...\n",
      "  [0.10699451]\n",
      "  [0.10699451]\n",
      "  [0.10699451]]\n",
      "\n",
      " [[0.10449451]\n",
      "  [0.10449451]\n",
      "  [0.10449451]\n",
      "  ...\n",
      "  [0.10449451]\n",
      "  [0.10449451]\n",
      "  [0.10449451]]]\n",
      "(1, 8, 8, 32)\n",
      "(1, 8, 8, 32)\n",
      "(1, 15, 15, 32)\n"
     ]
    },
    {
     "data": {
      "image/png": "[encoded data removed]",
      "text/plain": [
       "<Figure size 432x288 with 1 Axes>"
      ]
     },
     "metadata": {},
     "output_type": "display_data"
    },
    {
     "data": {
      "image/png": "[encoded data removed]",
      "text/plain": [
       "<Figure size 432x288 with 1 Axes>"
      ]
     },
     "metadata": {},
     "output_type": "display_data"
    },
    {
     "data": {
      "image/png": "[encoded data removed]",
      "text/plain": [
       "<Figure size 432x288 with 1 Axes>"
      ]
     },
     "metadata": {},
     "output_type": "display_data"
    },
    {
     "ename": "KeyboardInterrupt",
     "evalue": "",
     "output_type": "error",
     "traceback": [
      "\u001b[1;31m---------------------------------------------------------------------------\u001b[0m",
      "\u001b[1;31mKeyboardInterrupt\u001b[0m                         Traceback (most recent call last)",
      "\u001b[1;32m<ipython-input-12-69e133cd12e7>\u001b[0m in \u001b[0;36m<module>\u001b[1;34m()\u001b[0m\n\u001b[0;32m      1\u001b[0m test(env=env, init_memory=init_memory, model_dir=model_dir, experiment_dir=experiment_dir, actor=actor, critic=critic, memory=memory, \n\u001b[1;32m----> 2\u001b[1;33m               actor_lr=actor_lr, critic_lr=critic_lr, batch_size=batch_size, gamma=gamma, tau=tau)\n\u001b[0m",
      "\u001b[1;32m<ipython-input-9-3c46dfcc0ca8>\u001b[0m in \u001b[0;36mtest\u001b[1;34m(env, init_memory, model_dir, experiment_dir, actor, critic, memory, actor_lr, critic_lr, batch_size, gamma, tau)\u001b[0m\n\u001b[0;32m     28\u001b[0m         \u001b[0mstep\u001b[0m \u001b[1;33m=\u001b[0m \u001b[1;36m0\u001b[0m\u001b[1;33m\u001b[0m\u001b[0m\n\u001b[0;32m     29\u001b[0m         \u001b[1;32mwhile\u001b[0m \u001b[1;36m1\u001b[0m\u001b[1;33m:\u001b[0m\u001b[1;33m\u001b[0m\u001b[0m\n\u001b[1;32m---> 30\u001b[1;33m             \u001b[0mobs0\u001b[0m \u001b[1;33m=\u001b[0m \u001b[0menv\u001b[0m\u001b[1;33m.\u001b[0m\u001b[0mreset\u001b[0m\u001b[1;33m(\u001b[0m\u001b[1;33m)\u001b[0m\u001b[1;33m\u001b[0m\u001b[0m\n\u001b[0m\u001b[0;32m     31\u001b[0m             \u001b[1;32mwhile\u001b[0m \u001b[1;36m1\u001b[0m\u001b[1;33m:\u001b[0m\u001b[1;33m\u001b[0m\u001b[0m\n\u001b[0;32m     32\u001b[0m                 \u001b[0mstep\u001b[0m \u001b[1;33m=\u001b[0m \u001b[0mstep\u001b[0m \u001b[1;33m+\u001b[0m \u001b[1;36m1\u001b[0m\u001b[1;33m\u001b[0m\u001b[0m\n",
      "\u001b[1;32m~\\Desktop\\FYP\\Final_Code\\game_environment.py\u001b[0m in \u001b[0;36mreset\u001b[1;34m(self)\u001b[0m\n\u001b[0;32m     53\u001b[0m         \u001b[1;31m#        print('Please reset the game!!!')\u001b[0m\u001b[1;33m\u001b[0m\u001b[1;33m\u001b[0m\u001b[0m\n\u001b[0;32m     54\u001b[0m         \u001b[1;31m# get state\u001b[0m\u001b[1;33m\u001b[0m\u001b[1;33m\u001b[0m\u001b[0m\n\u001b[1;32m---> 55\u001b[1;33m         \u001b[0mself\u001b[0m\u001b[1;33m.\u001b[0m\u001b[0mpull_screenshot\u001b[0m\u001b[1;33m(\u001b[0m\u001b[1;34m'autojump.jpg'\u001b[0m\u001b[1;33m)\u001b[0m\u001b[1;33m\u001b[0m\u001b[0m\n\u001b[0m\u001b[0;32m     56\u001b[0m         \u001b[0mobs\u001b[0m \u001b[1;33m=\u001b[0m \u001b[0mstate\u001b[0m\u001b[1;33m(\u001b[0m\u001b[1;34m'autojump.jpg'\u001b[0m\u001b[1;33m)\u001b[0m\u001b[1;33m\u001b[0m\u001b[0m\n\u001b[0;32m     57\u001b[0m         \u001b[1;32mreturn\u001b[0m \u001b[0mobs\u001b[0m\u001b[1;33m\u001b[0m\u001b[0m\n",
      "\u001b[1;32m~\\Desktop\\FYP\\Final_Code\\game_environment.py\u001b[0m in \u001b[0;36mpull_screenshot\u001b[1;34m(self, file_name)\u001b[0m\n\u001b[0;32m    103\u001b[0m     \u001b[1;32mdef\u001b[0m \u001b[0mpull_screenshot\u001b[0m\u001b[1;33m(\u001b[0m\u001b[0mself\u001b[0m\u001b[1;33m,\u001b[0m \u001b[0mfile_name\u001b[0m\u001b[1;33m)\u001b[0m\u001b[1;33m:\u001b[0m\u001b[1;33m\u001b[0m\u001b[0m\n\u001b[0;32m    104\u001b[0m         \u001b[1;31m# Get screenshot\u001b[0m\u001b[1;33m\u001b[0m\u001b[1;33m\u001b[0m\u001b[0m\n\u001b[1;32m--> 105\u001b[1;33m         \u001b[0mos\u001b[0m\u001b[1;33m.\u001b[0m\u001b[0msystem\u001b[0m\u001b[1;33m(\u001b[0m\u001b[1;34m'adb shell screencap -p /sdcard/%s'\u001b[0m \u001b[1;33m%\u001b[0m \u001b[0mfile_name\u001b[0m\u001b[1;33m)\u001b[0m\u001b[1;33m\u001b[0m\u001b[0m\n\u001b[0m\u001b[0;32m    106\u001b[0m         \u001b[0mos\u001b[0m\u001b[1;33m.\u001b[0m\u001b[0msystem\u001b[0m\u001b[1;33m(\u001b[0m\u001b[1;34m'adb pull /sdcard/%s .'\u001b[0m \u001b[1;33m%\u001b[0m \u001b[0mfile_name\u001b[0m\u001b[1;33m)\u001b[0m\u001b[1;33m\u001b[0m\u001b[0m\n\u001b[0;32m    107\u001b[0m \u001b[1;33m\u001b[0m\u001b[0m\n",
      "\u001b[1;31mKeyboardInterrupt\u001b[0m: "
     ]
    }
   ],
   "source": [
    "test(env=env, init_memory=init_memory, model_dir=model_dir, experiment_dir=experiment_dir, actor=actor, critic=critic, memory=memory, \n",
    "              actor_lr=actor_lr, critic_lr=critic_lr, batch_size=batch_size, gamma=gamma, tau=tau)"
   ]
  },
  {
   "cell_type": "code",
   "execution_count": null,
   "metadata": {},
   "outputs": [],
   "source": []
  }
 ],
 "metadata": {
  "kernelspec": {
   "display_name": "Python 3",
   "language": "python",
   "name": "python3"
  },
  "language_info": {
   "codemirror_mode": {
    "name": "ipython",
    "version": 3
   },
   "file_extension": ".py",
   "mimetype": "text/x-python",
   "name": "python",
   "nbconvert_exporter": "python",
   "pygments_lexer": "ipython3",
   "version": "3.6.5"
  }
 },
 "nbformat": 4,
 "nbformat_minor": 2
}
